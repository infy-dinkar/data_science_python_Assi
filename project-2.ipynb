{
 "cells": [
  {
   "cell_type": "markdown",
   "id": "3df793cb",
   "metadata": {},
   "source": [
    "# Authentication System"
   ]
  },
  {
   "cell_type": "code",
   "execution_count": 1,
   "id": "9d947a4b",
   "metadata": {},
   "outputs": [
    {
     "name": "stdout",
     "output_type": "stream",
     "text": [
      "Enter your username: DinkarThakur\n",
      "Enter your new password: Dinkar@#5197\n",
      "Invalid Password: Password cannot contain sequences of three or more consecutive characters from the username.\n",
      "Enter your new password: D@#%$5197\n",
      "Invalid Password: Password must be at least 10 characters long and contain two uppercase letters, two lowercase letters, two digits, and two special characters.\n",
      "Enter your new password: DTik@*%143$\n",
      "Password set successfully!\n"
     ]
    }
   ],
   "source": [
    "def validate_password(password, username, last_three_passwords):\n",
    "    # Check minimum length and character variety\n",
    "    if len(password) < 10 or not (\n",
    "        any(c.isupper() for c in password) and\n",
    "        any(c.islower() for c in password) and\n",
    "        any(c.isdigit() for c in password) and\n",
    "        any(c in \"!@#$%^&*\" for c in password)\n",
    "    ):\n",
    "        return False, \"Password must be at least 10 characters long and contain two uppercase letters, two lowercase letters, two digits, and two special characters.\"\n",
    "    \n",
    "    # Check sequence and repetition restrictions\n",
    "    if any(password[i] == password[i+1] == password[i+2] for i in range(len(password) - 2)):\n",
    "        return False, \"Password cannot contain sequences of three or more repeating characters.\"\n",
    "\n",
    "    # Check for username sequence\n",
    "    if any(username[i:i+3] in password for i in range(len(username) - 2)):\n",
    "        return False, \"Password cannot contain sequences of three or more consecutive characters from the username.\"\n",
    "\n",
    "    # Check historical password check\n",
    "    if password in last_three_passwords:\n",
    "        return False, \"Password cannot be the same as any of the last three passwords used.\"\n",
    "    \n",
    "    return True, \"Password is valid.\"\n",
    "def main():\n",
    "    username = input(\"Enter your username: \")\n",
    "    last_three_passwords = []  # Placeholder for last three passwords\n",
    "    \n",
    "    while True:\n",
    "        password = input(\"Enter your new password: \")\n",
    "        is_valid, message = validate_password(password, username, last_three_passwords)\n",
    "        if is_valid:\n",
    "            last_three_passwords.append(password) \n",
    "            if len(last_three_passwords) > 3:\n",
    "                last_three_passwords.pop(0) \n",
    "            print(\"Password set successfully!\")\n",
    "            break\n",
    "        else:\n",
    "            print(\"Invalid Password:\", message)\n",
    "\n",
    "main()"
   ]
  },
  {
   "cell_type": "code",
   "execution_count": null,
   "id": "8f9df9e7",
   "metadata": {},
   "outputs": [],
   "source": []
  }
 ],
 "metadata": {
  "kernelspec": {
   "display_name": "Python 3 (ipykernel)",
   "language": "python",
   "name": "python3"
  },
  "language_info": {
   "codemirror_mode": {
    "name": "ipython",
    "version": 3
   },
   "file_extension": ".py",
   "mimetype": "text/x-python",
   "name": "python",
   "nbconvert_exporter": "python",
   "pygments_lexer": "ipython3",
   "version": "3.11.5"
  }
 },
 "nbformat": 4,
 "nbformat_minor": 5
}
